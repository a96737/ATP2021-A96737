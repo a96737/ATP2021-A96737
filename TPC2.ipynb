{
 "cells": [
  {
   "cell_type": "markdown",
   "id": "147b0ec4-2d9d-4eff-ac16-010874451887",
   "metadata": {},
   "source": [
    "## Manisfesto TPC2\n",
    "\n",
    "**Identificador:** TPC2\n",
    "\n",
    "**Título:** Jogo Adivinha o número\n",
    "\n",
    "**Data de início:** 2021-10-18  **Data do fim:** 2021-10-20\n",
    "\n",
    "**Supervisor:** José Carlos Leite Ramalho,  https://www.di.uminho.pt/~jcr/ \n",
    "\n",
    "**Autor:** Adriana Daniela Coelho da Costa, A96737"
   ]
  },
  {
   "cell_type": "markdown",
   "id": "786900f5-d144-402e-8ae0-f64a20c509d3",
   "metadata": {
    "tags": []
   },
   "source": [
    "#### Resumo"
   ]
  },
  {
   "cell_type": "markdown",
   "id": "b66930ce-1ce6-411f-89b9-d4b753759106",
   "metadata": {},
   "source": [
    "O jogo apresentado tem como propósito adivinhar o número inteiro entre 0 e 100 pensado pelo jogador no menor \n",
    "número de tentativas possíveis. \n",
    "\n",
    "No início é apresentado ao jogador as regras e comandos do jogo.\n",
    "\n",
    "Seguidamente, o jogo decorre através de um ciclo while até que o palpite do computador seja igual ao número pensado pelo jogador.\n",
    "\n",
    "No meio desse ciclo temos as estruturas if/else que ajustam os palpites do computador mediante a resposta à pergunta \"O número em que pensou é maior, menor ou igual?\"\n",
    "\n",
    "Por fim, quando o jogador responde \"igual\", o jogo termina e o computador apresenta o número pensado assim como o número de tentativas efetuadas."
   ]
  },
  {
   "cell_type": "markdown",
   "id": "d7adde00-901c-49cc-aadb-9d6079e00702",
   "metadata": {},
   "source": [
    "## Código: Adivinha o número"
   ]
  },
  {
   "cell_type": "code",
   "execution_count": null,
   "id": "50dfc2eb-fb72-4ed8-9cb5-cc0b2927ae4e",
   "metadata": {},
   "outputs": [
    {
     "name": "stdout",
     "output_type": "stream",
     "text": [
      "Olá :)\n",
      "Preparado para jogar?\n",
      "Pense num número de 0 a 100\n",
      "O número é:  50\n",
      "Tentativa número:  1\n"
     ]
    }
   ],
   "source": [
    "inicio = \"\"\"Olá :)\n",
    "Preparado para jogar?\n",
    "Pense num número de 0 a 100\"\"\"\n",
    "print(inicio)\n",
    "\n",
    "    \n",
    "def jogo():\n",
    "    tentativa = 0 \n",
    "    encontrado = False\n",
    "    palpite = 50\n",
    "    while not encontrado:\n",
    "        print(\"O número é: \", palpite)\n",
    "        tentativa = tentativa + 1\n",
    "        print(\"Tentativa número: \", tentativa)\n",
    "        resposta = input(\"O número em que pensou é maior, menor ou igual? \")\n",
    "        if (resposta == \"maior\"):\n",
    "            if (palpite)%2==0:\n",
    "                a=int(palpite/2)\n",
    "            else:\n",
    "                a=int(0.5 + palpite/2)\n",
    "            palpite = palpite + a\n",
    "        elif (resposta == \"menor\"):\n",
    "            if (palpite)%2==0:\n",
    "                a=int(palpite)/2\n",
    "            else:\n",
    "                a=int(0.5+ palpite/2)\n",
    "            palpite = palpite - a\n",
    "        elif (resposta == \"igual\"):\n",
    "            encontrado = True\n",
    "            print(\"Tentativa número: \", tentativa)\n",
    "            print(\"\"\"Fim do jogo!\n",
    "            O seu número é:\"\"\", palpite)\n",
    "print(jogo())"
   ]
  },
  {
   "cell_type": "code",
   "execution_count": null,
   "id": "61cb6460-82a3-46b7-86f6-cf29abf7aee1",
   "metadata": {},
   "outputs": [],
   "source": []
  }
 ],
 "metadata": {
  "kernelspec": {
   "display_name": "Python 3",
   "language": "python",
   "name": "python3"
  },
  "language_info": {
   "codemirror_mode": {
    "name": "ipython",
    "version": 3
   },
   "file_extension": ".py",
   "mimetype": "text/x-python",
   "name": "python",
   "nbconvert_exporter": "python",
   "pygments_lexer": "ipython3",
   "version": "3.8.8"
  }
 },
 "nbformat": 4,
 "nbformat_minor": 5
}
