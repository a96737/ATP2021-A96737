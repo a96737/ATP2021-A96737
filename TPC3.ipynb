{
 "cells": [
  {
   "cell_type": "markdown",
   "id": "96e56b56-ebeb-4156-bc1b-5b9238b6975f",
   "metadata": {},
   "source": [
    "### Manisfesto TPC3\n",
    "**Identificador:** TPC3\n",
    "\n",
    "**Título:** Função bubble sort e menu\n",
    "\n",
    "**Data de início:** 2021-10-25 **Data do fim:** 2021-10-26\n",
    "\n",
    "**Supervisor:** José Carlos Leite Ramalho, https://www.di.uminho.pt/~jcr/\n",
    "\n",
    "**Autor:** Adriana Daniela Coelho da Costa, A96737"
   ]
  },
  {
   "cell_type": "markdown",
   "id": "7e0a64fe-8c1d-46c8-bf30-5b1a2756c761",
   "metadata": {},
   "source": [
    "**Resumo**\n",
    "\n",
    "O código apresentado tem como objetivo a ordenação, de forma crescente, de uma lista através da comparação de dois números consecutivos. \n",
    "\n",
    "O jogo começa com a apresentação de um menu que contém 4 opções sendo uma delas o Bubble Sort, que ordena a lista anteriormente gerada (manualmente ou aleatóriamente)\n",
    "\n",
    "O jogo termina quando o jogador seleciona a opção 0."
   ]
  },
  {
   "cell_type": "code",
   "execution_count": 1,
   "id": "30396ab9-1bac-4d73-9f80-b190f1b9aaed",
   "metadata": {},
   "outputs": [
    {
     "name": "stdout",
     "output_type": "stream",
     "text": [
      "Bem-vindo!\n",
      "    (1) Gerar lista manualmente;\n",
      "    (2) Gerar uma lista de valores aleatórios;\n",
      "    (3) Maior elemento da lista;\n",
      "    (4) Ordenar a lista(Bubble Sort)\n",
      "    (0) Sair\n"
     ]
    },
    {
     "name": "stdin",
     "output_type": "stream",
     "text": [
      "Introduza uma opção:  2\n",
      "Introduza o número de elementos da lista:  6\n"
     ]
    },
    {
     "name": "stdout",
     "output_type": "stream",
     "text": [
      "[16, 11, 44, 27, 19, 23]\n",
      "Bem-vindo!\n",
      "    (1) Gerar lista manualmente;\n",
      "    (2) Gerar uma lista de valores aleatórios;\n",
      "    (3) Maior elemento da lista;\n",
      "    (4) Ordenar a lista(Bubble Sort)\n",
      "    (0) Sair\n"
     ]
    },
    {
     "name": "stdin",
     "output_type": "stream",
     "text": [
      "Introduza uma opção:  4\n"
     ]
    },
    {
     "name": "stdout",
     "output_type": "stream",
     "text": [
      "[11, 16, 19, 23, 27, 44]\n",
      "Bem-vindo!\n",
      "    (1) Gerar lista manualmente;\n",
      "    (2) Gerar uma lista de valores aleatórios;\n",
      "    (3) Maior elemento da lista;\n",
      "    (4) Ordenar a lista(Bubble Sort)\n",
      "    (0) Sair\n"
     ]
    },
    {
     "name": "stdin",
     "output_type": "stream",
     "text": [
      "Introduza uma opção:  0\n"
     ]
    },
    {
     "name": "stdout",
     "output_type": "stream",
     "text": [
      "Até à próxima! :)\n"
     ]
    }
   ],
   "source": [
    "def menu():\n",
    "    print(\"\"\"Bem-vindo!\n",
    "    (1) Gerar lista manualmente;\n",
    "    (2) Gerar uma lista de valores aleatórios;\n",
    "    (3) Maior elemento da lista;\n",
    "    (4) Ordenar a lista(Bubble Sort)\n",
    "    (0) Sair\"\"\")\n",
    "    \n",
    "def criarListaM(): \n",
    "    Lista = []\n",
    "    n = int(input(\"Introduza o número de elementos da lista: \"))\n",
    "    i = 1\n",
    "    while len(Lista) < n:\n",
    "        elem = input(\"Introduza o elemento \" + str(i) + \": \")\n",
    "        Lista.append(elem)\n",
    "        i = i + 1\n",
    "    return Lista   \n",
    "\n",
    "def criarListaA():\n",
    "    from random import randrange\n",
    "    Lista = []\n",
    "    n = int(input(\"Introduza o número de elementos da lista: \"))\n",
    "    i = 1\n",
    "    while len(Lista) < n:\n",
    "        elem = randrange(0, 101)\n",
    "        Lista.append(elem)\n",
    "        i = i + 1\n",
    "    return Lista\n",
    "\n",
    "def maiorElemento(Lista):\n",
    "    maior = Lista[0]\n",
    "    for i in range(len(Lista)):\n",
    "        if Lista[i] > maior:\n",
    "            maior = Lista[i]\n",
    "    return maior\n",
    "\n",
    "def bubbleSort(Lista):\n",
    "    ordenado = False\n",
    "    while not ordenado:\n",
    "        ordenado = True\n",
    "        for i in range(len(Lista) - 1):\n",
    "            if int(Lista[i]) > int(Lista[i+1]):\n",
    "                ordenado= False\n",
    "                Lista[i], Lista[i + 1] = Lista[i + 1], Lista[i]\n",
    "    return(Lista)\n",
    "\n",
    "opcao = \"-1\"\n",
    "while opcao != \"0\":\n",
    "    menu()\n",
    "    opcao = input(\"Introduza uma opção: \")\n",
    "    if opcao == \"1\":\n",
    "        Lista = criarListaM()\n",
    "        print(Lista)\n",
    "    elif opcao == \"2\":\n",
    "        Lista = criarListaA()\n",
    "        print(Lista)\n",
    "    elif opcao == \"3\":\n",
    "        print(maiorElemento(Lista))\n",
    "    elif opcao == \"4\":\n",
    "        print(bubbleSort(Lista))\n",
    "    else: \n",
    "        print(\"Até à próxima! :)\")"
   ]
  },
  {
   "cell_type": "code",
   "execution_count": null,
   "id": "f028ad47-16c1-418c-8207-29771e8f0a47",
   "metadata": {},
   "outputs": [],
   "source": []
  }
 ],
 "metadata": {
  "kernelspec": {
   "display_name": "Python 3",
   "language": "python",
   "name": "python3"
  },
  "language_info": {
   "codemirror_mode": {
    "name": "ipython",
    "version": 3
   },
   "file_extension": ".py",
   "mimetype": "text/x-python",
   "name": "python",
   "nbconvert_exporter": "python",
   "pygments_lexer": "ipython3",
   "version": "3.8.8"
  }
 },
 "nbformat": 4,
 "nbformat_minor": 5
}
